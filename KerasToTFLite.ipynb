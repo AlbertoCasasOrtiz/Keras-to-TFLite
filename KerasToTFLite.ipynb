{
  "nbformat": 4,
  "nbformat_minor": 0,
  "metadata": {
    "colab": {
      "name": "KerasToTFLite",
      "provenance": []
    },
    "kernelspec": {
      "name": "python3",
      "display_name": "Python 3"
    }
  },
  "cells": [
    {
      "cell_type": "code",
      "metadata": {
        "id": "7y5o4G4n32tE"
      },
      "source": [
        "import tensorflow as tf\n",
        "from keras.models import model_from_json\n",
        "import keras\n",
        "print(tf.__version__)\n",
        "# Clear a keras session, so data from previous session does not affet this one.\n",
        "keras.backend.clear_session()\n",
        "\n",
        "# Reconstruct model from a keras generated json file with the structure\n",
        "# and a h5 file with the weights.\n",
        "with open('model.json', 'r') as f:\n",
        "    model = model_from_json(f.read())\n",
        "model.load_weights('model.h5')\n",
        "\n",
        "# Print a summary of the model.\n",
        "model.summary()\n",
        "\n",
        "# Save a h5 file containing structure of the model and weights.\n",
        "model.save('model_full.h5')\n",
        "\n",
        "# Load the h5 file that we have just generated.\n",
        "model = tf.keras.models.load_model('model_full.h5', compile=True)\n",
        "\n",
        "# Convert the Keras model to a TensorFlow Lite model.\n",
        "converter = tf.lite.TFLiteConverter.from_keras_model(model)\n",
        "converter.optimizations = [tf.lite.Optimize.DEFAULT]\n",
        "converter.experimental_new_converter=True\n",
        "converter.target_spec.supported_ops = [tf.lite.OpsSet.TFLITE_BUILTINS,\n",
        "tf.lite.OpsSet.SELECT_TF_OPS]\n",
        "tflite_model = converter.convert()\n",
        "\n",
        "# Save the Tensorflow Lite model into a tflite file that can be used anywhere.\n",
        "with tf.io.gfile.GFile('model.tflite', 'wb') as f:\n",
        "  f.write(tflite_model)"
      ],
      "execution_count": null,
      "outputs": []
    }
  ]
}
