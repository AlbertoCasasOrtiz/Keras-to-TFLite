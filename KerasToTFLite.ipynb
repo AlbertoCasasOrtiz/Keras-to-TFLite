{
  "nbformat": 4,
  "nbformat_minor": 0,
  "metadata": {
    "colab": {
      "name": "KerasToTFLite",
      "provenance": []
    },
    "kernelspec": {
      "name": "python3",
      "display_name": "Python 3"
    }
  },
  "cells": [
    {
      "cell_type": "code",
      "metadata": {
        "id": "7y5o4G4n32tE",
        "colab": {
          "base_uri": "https://localhost:8080/"
        },
        "outputId": "1ad35dd0-aa0f-45e1-93a3-8d2f0731933a"
      },
      "source": [
        "import tensorflow as tf\n",
        "from keras.models import model_from_json\n",
        "import keras\n",
        "\n",
        "# Clear a keras session, so data from previous session does not affet this one.\n",
        "keras.backend.clear_session()\n",
        "\n",
        "# Reconstruct model from a keras generated json file with the structure\n",
        "# and a h5 file with the weights.\n",
        "with open('model.json', 'r') as f:\n",
        "    model = model_from_json(f.read())\n",
        "model.load_weights('model.h5')\n",
        "\n",
        "# Print a summary of the model.\n",
        "model.summary()\n",
        "\n",
        "# Save a h5 file containing structure of the model and weights.\n",
        "model.save('model_full.h5')\n",
        "\n",
        "# Load the h5 file that we have just generated.\n",
        "model = tf.keras.models.load_model('model_full.h5', compile=False)\n",
        "\n",
        "# Convert the Keras model to a TensorFlow Lite model.\n",
        "converter = tf.lite.TFLiteConverter.from_keras_model(model)\n",
        "tflite_model = converter.convert()\n",
        "\n",
        "# Save the Tensorflow Lite model into a tflite file that can be used anywhere.\n",
        "with tf.io.gfile.GFile('model.tflite', 'wb') as f:\n",
        "  f.write(tflite_model)"
      ],
      "execution_count": null,
      "outputs": [
        {
          "output_type": "stream",
          "text": [
            "Model: \"model\"\n",
            "_________________________________________________________________\n",
            "Layer (type)                 Output Shape              Param #   \n",
            "=================================================================\n",
            "input_1 (InputLayer)         [(None, 18, 56)]          0         \n",
            "_________________________________________________________________\n",
            "lstm (LSTM)                  (None, 18, 56)            25312     \n",
            "_________________________________________________________________\n",
            "dropout (Dropout)            (None, 18, 56)            0         \n",
            "_________________________________________________________________\n",
            "flatten (Flatten)            (None, 1008)              0         \n",
            "_________________________________________________________________\n",
            "dense (Dense)                (None, 6)                 6054      \n",
            "_________________________________________________________________\n",
            "activation (Activation)      (None, 6)                 0         \n",
            "=================================================================\n",
            "Total params: 31,366\n",
            "Trainable params: 31,366\n",
            "Non-trainable params: 0\n",
            "_________________________________________________________________\n",
            "WARNING:tensorflow:Compiled the loaded model, but the compiled metrics have yet to be built. `model.compile_metrics` will be empty until you train or evaluate the model.\n",
            "WARNING:tensorflow:Compiled the loaded model, but the compiled metrics have yet to be built. `model.compile_metrics` will be empty until you train or evaluate the model.\n"
          ],
          "name": "stdout"
        },
        {
          "output_type": "stream",
          "text": [
            "WARNING:absl:Found untraced functions such as lstm_cell_layer_call_fn, lstm_cell_layer_call_and_return_conditional_losses, lstm_cell_layer_call_fn, lstm_cell_layer_call_and_return_conditional_losses, lstm_cell_layer_call_and_return_conditional_losses while saving (showing 5 of 5). These functions will not be directly callable after loading.\n"
          ],
          "name": "stderr"
        },
        {
          "output_type": "stream",
          "text": [
            "INFO:tensorflow:Assets written to: /tmp/tmpfw_76ssj/assets\n"
          ],
          "name": "stdout"
        },
        {
          "output_type": "stream",
          "text": [
            "INFO:tensorflow:Assets written to: /tmp/tmpfw_76ssj/assets\n"
          ],
          "name": "stderr"
        }
      ]
    }
  ]
}
